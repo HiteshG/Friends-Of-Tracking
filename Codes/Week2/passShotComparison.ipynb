{
 "cells": [
  {
   "cell_type": "code",
   "execution_count": 9,
   "metadata": {},
   "outputs": [],
   "source": [
    "import matplotlib.pyplot as plt\n",
    "import matplotlib as mpl\n",
    "import numpy as np\n",
    "from matplotlib.patches import Arc\n",
    "import numpy as np\n",
    "\n",
    "import json\n",
    "import pickle\n",
    "import pandas as pd"
   ]
  },
  {
   "cell_type": "code",
   "execution_count": 10,
   "metadata": {},
   "outputs": [],
   "source": [
    "file = \"./passShot.csv\""
   ]
  },
  {
   "cell_type": "code",
   "execution_count": 11,
   "metadata": {},
   "outputs": [],
   "source": [
    "df = pd.read_csv(file)"
   ]
  },
  {
   "cell_type": "code",
   "execution_count": 12,
   "metadata": {},
   "outputs": [
    {
     "data": {
      "text/html": [
       "<div>\n",
       "<style scoped>\n",
       "    .dataframe tbody tr th:only-of-type {\n",
       "        vertical-align: middle;\n",
       "    }\n",
       "\n",
       "    .dataframe tbody tr th {\n",
       "        vertical-align: top;\n",
       "    }\n",
       "\n",
       "    .dataframe thead th {\n",
       "        text-align: right;\n",
       "    }\n",
       "</style>\n",
       "<table border=\"1\" class=\"dataframe\">\n",
       "  <thead>\n",
       "    <tr style=\"text-align: right;\">\n",
       "      <th></th>\n",
       "      <th>Team</th>\n",
       "      <th>Passes</th>\n",
       "      <th>Shots</th>\n",
       "      <th>Goals</th>\n",
       "      <th>Matches</th>\n",
       "      <th>Danger Passes</th>\n",
       "    </tr>\n",
       "  </thead>\n",
       "  <tbody>\n",
       "    <tr>\n",
       "      <th>0</th>\n",
       "      <td>Sweden Women's</td>\n",
       "      <td>384</td>\n",
       "      <td>8</td>\n",
       "      <td>1</td>\n",
       "      <td>NaN</td>\n",
       "      <td>10</td>\n",
       "    </tr>\n",
       "    <tr>\n",
       "      <th>1</th>\n",
       "      <td>Canada Women's</td>\n",
       "      <td>558</td>\n",
       "      <td>11</td>\n",
       "      <td>0</td>\n",
       "      <td>NaN</td>\n",
       "      <td>22</td>\n",
       "    </tr>\n",
       "    <tr>\n",
       "      <th>2</th>\n",
       "      <td>Cameroon Women's</td>\n",
       "      <td>369</td>\n",
       "      <td>22</td>\n",
       "      <td>2</td>\n",
       "      <td>NaN</td>\n",
       "      <td>47</td>\n",
       "    </tr>\n",
       "    <tr>\n",
       "      <th>3</th>\n",
       "      <td>New Zealand Women's</td>\n",
       "      <td>472</td>\n",
       "      <td>9</td>\n",
       "      <td>1</td>\n",
       "      <td>NaN</td>\n",
       "      <td>23</td>\n",
       "    </tr>\n",
       "    <tr>\n",
       "      <th>4</th>\n",
       "      <td>Germany Women's</td>\n",
       "      <td>463</td>\n",
       "      <td>12</td>\n",
       "      <td>3</td>\n",
       "      <td>NaN</td>\n",
       "      <td>27</td>\n",
       "    </tr>\n",
       "    <tr>\n",
       "      <th>...</th>\n",
       "      <td>...</td>\n",
       "      <td>...</td>\n",
       "      <td>...</td>\n",
       "      <td>...</td>\n",
       "      <td>...</td>\n",
       "      <td>...</td>\n",
       "    </tr>\n",
       "    <tr>\n",
       "      <th>99</th>\n",
       "      <td>England Women's</td>\n",
       "      <td>496</td>\n",
       "      <td>16</td>\n",
       "      <td>3</td>\n",
       "      <td>NaN</td>\n",
       "      <td>42</td>\n",
       "    </tr>\n",
       "    <tr>\n",
       "      <th>100</th>\n",
       "      <td>England Women's</td>\n",
       "      <td>500</td>\n",
       "      <td>7</td>\n",
       "      <td>1</td>\n",
       "      <td>NaN</td>\n",
       "      <td>18</td>\n",
       "    </tr>\n",
       "    <tr>\n",
       "      <th>101</th>\n",
       "      <td>United States Women's</td>\n",
       "      <td>373</td>\n",
       "      <td>11</td>\n",
       "      <td>2</td>\n",
       "      <td>NaN</td>\n",
       "      <td>29</td>\n",
       "    </tr>\n",
       "    <tr>\n",
       "      <th>102</th>\n",
       "      <td>Netherlands Women's</td>\n",
       "      <td>644</td>\n",
       "      <td>16</td>\n",
       "      <td>1</td>\n",
       "      <td>NaN</td>\n",
       "      <td>41</td>\n",
       "    </tr>\n",
       "    <tr>\n",
       "      <th>103</th>\n",
       "      <td>Sweden Women's</td>\n",
       "      <td>501</td>\n",
       "      <td>11</td>\n",
       "      <td>0</td>\n",
       "      <td>NaN</td>\n",
       "      <td>8</td>\n",
       "    </tr>\n",
       "  </tbody>\n",
       "</table>\n",
       "<p>104 rows × 6 columns</p>\n",
       "</div>"
      ],
      "text/plain": [
       "                      Team  Passes  Shots  Goals  Matches  Danger Passes\n",
       "0           Sweden Women's     384      8      1      NaN             10\n",
       "1           Canada Women's     558     11      0      NaN             22\n",
       "2         Cameroon Women's     369     22      2      NaN             47\n",
       "3      New Zealand Women's     472      9      1      NaN             23\n",
       "4          Germany Women's     463     12      3      NaN             27\n",
       "..                     ...     ...    ...    ...      ...            ...\n",
       "99         England Women's     496     16      3      NaN             42\n",
       "100        England Women's     500      7      1      NaN             18\n",
       "101  United States Women's     373     11      2      NaN             29\n",
       "102    Netherlands Women's     644     16      1      NaN             41\n",
       "103         Sweden Women's     501     11      0      NaN              8\n",
       "\n",
       "[104 rows x 6 columns]"
      ]
     },
     "execution_count": 12,
     "metadata": {},
     "output_type": "execute_result"
    }
   ],
   "source": [
    "df"
   ]
  },
  {
   "cell_type": "code",
   "execution_count": 13,
   "metadata": {},
   "outputs": [],
   "source": [
    "a_file = open(\"./danger_passes.pkl\", \"rb\")\n",
    "danger_passes_by = pickle.load(a_file)"
   ]
  },
  {
   "cell_type": "code",
   "execution_count": 16,
   "metadata": {},
   "outputs": [
    {
     "data": {
      "text/plain": [
       "dict_keys([\"Sweden Women's\", \"Canada Women's\", \"Cameroon Women's\", \"New Zealand Women's\", \"Germany Women's\", \"Nigeria Women's\", \"England Women's\", \"Jamaica Women's\", \"Australia Women's\", \"Italy Women's\", \"Netherlands Women's\", \"France Women's\", \"Brazil Women's\", \"Scotland Women's\", \"Thailand Women's\", \"Japan Women's\", \"Korea Republic Women's\", \"Norway Women's\", \"United States Women's\", \"Chile Women's\", \"China PR Women's\", \"Spain Women's\", \"South Africa Women's\", \"Argentina Women's\"])"
      ]
     },
     "execution_count": 16,
     "metadata": {},
     "output_type": "execute_result"
    }
   ],
   "source": [
    "danger_passes_by.keys()"
   ]
  },
  {
   "cell_type": "code",
   "execution_count": 32,
   "metadata": {},
   "outputs": [
    {
     "name": "stdout",
     "output_type": "stream",
     "text": [
      "Sweden Women's- 238\n",
      "Canada Women's- 160\n",
      "Cameroon Women's- 96\n",
      "New Zealand Women's- 41\n",
      "Germany Women's- 165\n",
      "Nigeria Women's- 61\n",
      "England Women's- 231\n",
      "Jamaica Women's- 48\n",
      "Australia Women's- 133\n",
      "Italy Women's- 116\n",
      "Netherlands Women's- 239\n",
      "France Women's- 199\n",
      "Brazil Women's- 83\n",
      "Scotland Women's- 52\n",
      "Thailand Women's- 30\n",
      "Japan Women's- 155\n",
      "Korea Republic Women's- 108\n",
      "Norway Women's- 149\n",
      "United States Women's- 321\n",
      "Chile Women's- 95\n",
      "China PR Women's- 104\n",
      "Spain Women's- 178\n",
      "South Africa Women's- 36\n",
      "Argentina Women's- 42\n"
     ]
    }
   ],
   "source": [
    "#Make comparative pass maps\n",
    "x_all=[]\n",
    "y_all=[]\n",
    "H_Pass=dict()\n",
    "\n",
    "#Size of the pitch in yards (StatsBomb)\n",
    "pitchLengthX = 120\n",
    "pitchWidthY = 80\n",
    "\n",
    "for team, value in danger_passes_by.items():\n",
    "    \n",
    "    dp=danger_passes_by[team]\n",
    "    print(team + \"- \"+ str(len(dp)))\n",
    "    \n",
    "    x=[]\n",
    "    y=[]\n",
    "    for i,apass in dp.iterrows():\n",
    "        x.append(apass['location'][0])\n",
    "        y.append(pitchWidthY-apass['location'][1])\n",
    "\n",
    "    #Make a histogram of passes\n",
    "    H_Pass[team]=np.histogram2d(y, x,bins=5,range=[[0, pitchWidthY],[0, pitchLengthX]])\n",
    "    \n",
    "    x_all = x_all+x\n",
    "    y_all = y_all+y\n",
    "\n",
    "H_Pass_All=np.histogram2d(y_all, x_all,bins=5,range=[[0, pitchWidthY],[0, pitchLengthX]])"
   ]
  },
  {
   "cell_type": "code",
   "execution_count": 27,
   "metadata": {},
   "outputs": [
    {
     "data": {
      "text/plain": [
       "(array([[  1.,  56., 130., 214., 231.],\n",
       "        [ 13.,  66., 131., 245., 178.],\n",
       "        [ 27.,  49., 167., 220.,  87.],\n",
       "        [ 12.,  60., 149., 266., 194.],\n",
       "        [  4.,  52.,  91., 218., 216.]]),\n",
       " array([ 0., 16., 32., 48., 64., 80.]),\n",
       " array([  0.,  24.,  48.,  72.,  96., 120.]))"
      ]
     },
     "execution_count": 27,
     "metadata": {},
     "output_type": "execute_result"
    }
   ],
   "source": []
  },
  {
   "cell_type": "code",
   "execution_count": 35,
   "metadata": {},
   "outputs": [
    {
     "ename": "AttributeError",
     "evalue": "'dict_keys' object has no attribute 'size'",
     "output_type": "error",
     "traceback": [
      "\u001b[1;31m---------------------------------------------------------------------------\u001b[0m",
      "\u001b[1;31mAttributeError\u001b[0m                            Traceback (most recent call last)",
      "\u001b[1;32m<ipython-input-35-72783d8c79f8>\u001b[0m in \u001b[0;36m<module>\u001b[1;34m\u001b[0m\n\u001b[0;32m      1\u001b[0m \u001b[1;31m#Compare to mean\u001b[0m\u001b[1;33m\u001b[0m\u001b[1;33m\u001b[0m\u001b[1;33m\u001b[0m\u001b[0m\n\u001b[0;32m      2\u001b[0m \u001b[1;33m\u001b[0m\u001b[0m\n\u001b[1;32m----> 3\u001b[1;33m \u001b[0mteam_size\u001b[0m \u001b[1;33m=\u001b[0m \u001b[0mH_Pass\u001b[0m\u001b[1;33m.\u001b[0m\u001b[0mkeys\u001b[0m\u001b[1;33m(\u001b[0m\u001b[1;33m)\u001b[0m\u001b[1;33m.\u001b[0m\u001b[0msize\u001b[0m\u001b[1;33m(\u001b[0m\u001b[1;33m)\u001b[0m\u001b[1;33m\u001b[0m\u001b[1;33m\u001b[0m\u001b[0m\n\u001b[0m\u001b[0;32m      4\u001b[0m \u001b[0mprint\u001b[0m\u001b[1;33m(\u001b[0m\u001b[0mteam_size\u001b[0m\u001b[1;33m)\u001b[0m\u001b[1;33m\u001b[0m\u001b[1;33m\u001b[0m\u001b[0m\n\u001b[0;32m      5\u001b[0m \u001b[1;33m\u001b[0m\u001b[0m\n",
      "\u001b[1;31mAttributeError\u001b[0m: 'dict_keys' object has no attribute 'size'"
     ]
    }
   ],
   "source": [
    "#Compare to mean\n",
    "\n",
    "team_size = H_Pass.keys().size()\n",
    "print(team_size)\n",
    "\n",
    "n_col = 2\n",
    "if team_size/2 == 0:\n",
    "    n_col = 2\n",
    "\n",
    "main = np.arange(team_size.size).reshape(-1, n_col)\n",
    "\n",
    "# Layout format\n",
    "# Eg. Title 1 row across 3 column length, Main, annot 1 row across 3 column length\n",
    "layout = np.concatenate([ \n",
    "            np.tile(['title'], (1, main.shape[1])),\n",
    "            main,\n",
    "            np.tile(['annot'], (1, main.shape[1]))\n",
    "        ])\n",
    "\n",
    "\n",
    "height_ratios = np.repeat(1, main.shape[0]).tolist()\n",
    "height_ratios.insert(0, 0.05)\n",
    "height_ratios.append(0.05)\n",
    "\n",
    "# Adding subplot \n",
    "fig, axd = plt.subplot_mosaic(layout,constrained_layout=True,figsize=(12, 2*main.shape[0]), \n",
    "                              gridspec_kw={'height_ratios':height_ratios})\n",
    "\n",
    "# Filter title and annot from axd.values\n",
    "main_dict = {k: v for k, v in axd.items() if (k != 'title' and k !='annot')}\n",
    "\n",
    "#Size of the pitch in yards (StatsBomb)\n",
    "pitchLengthX = 120\n",
    "pitchWidthY = 80\n",
    "\n",
    "# For every ax we call function draw_pitch with horizontal orientation \n",
    "\n",
    "\n",
    "\n",
    "\n",
    "for team in teams:\n",
    "    (fig,ax) = createPitch(pitchLengthX,pitchWidthY,'yards','gray')\n",
    "    pos=ax.imshow(H_Pass[team][0]/number_of_matches[team], aspect='auto',cmap=plt.cm.seismic,vmin=-3, vmax=3)\n",
    "    pos=ax.imshow(H_Pass[team][0]/number_of_matches[team] - H_Pass_All[0]/(len(matches)*2), extent=[0,120,0,80], aspect='auto',cmap=plt.cm.seismic,vmin=-3, vmax=3)\n",
    "    #pos=ax.imshow(H_Pass[team][0]/number_of_matches[team] / (H_Pass_All[0]/(len(matches)*2)), extent=[0,120,0,80], aspect='auto',cmap=plt.cm.seismic,vmin=0.5, vmax=2)\n",
    "    \n",
    "    ax.set_title('Number of passes per match by ' +team)\n",
    "    plt.xlim((-1,121))\n",
    "    plt.ylim((83,-3))\n",
    "    plt.tight_layout()\n",
    "    plt.gca().set_aspect('equal', adjustable='box')\n",
    "    fig.colorbar(pos, ax=ax)\n",
    "    plt.show()\n",
    "    \n",
    "    #fig.savefig('Output/PassHeat' + team+ '.pdf', dpi=None, bbox_inches=\"tight\") "
   ]
  },
  {
   "cell_type": "code",
   "execution_count": null,
   "metadata": {},
   "outputs": [],
   "source": []
  }
 ],
 "metadata": {
  "kernelspec": {
   "display_name": "Python 3",
   "language": "python",
   "name": "python3"
  },
  "language_info": {
   "codemirror_mode": {
    "name": "ipython",
    "version": 3
   },
   "file_extension": ".py",
   "mimetype": "text/x-python",
   "name": "python",
   "nbconvert_exporter": "python",
   "pygments_lexer": "ipython3",
   "version": "3.7.6"
  }
 },
 "nbformat": 4,
 "nbformat_minor": 4
}
